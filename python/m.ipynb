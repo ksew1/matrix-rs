{
 "cells": [
  {
   "cell_type": "code",
   "id": "initial_id",
   "metadata": {
    "collapsed": true,
    "ExecuteTime": {
     "end_time": "2025-03-20T11:10:56.071635Z",
     "start_time": "2025-03-20T11:10:56.064828Z"
    }
   },
   "source": [
    "import matrix_rs\n",
    "\n",
    "A = [[1, 2, 3, 4], [5, 6, 7, 8], [9, 10, 11, 12], [13, 14, 15, 16]]\n",
    "\n",
    "B = [[16, 15, 14, 13], [12, 11, 10, 9], [8, 7, 6, 5], [4, 3, 2, 1]]\n",
    "result = matrix_rs.mul(A, B)\n",
    "\n",
    "print(\"Result:\")\n",
    "for row in result:\n",
    "    print(row)"
   ],
   "outputs": [
    {
     "name": "stdout",
     "output_type": "stream",
     "text": [
      "Result:\n",
      "[80.0, 70.0, 60.0, 50.0]\n",
      "[240.0, 214.0, 188.0, 162.0]\n",
      "[400.0, 358.0, 316.0, 274.0]\n",
      "[560.0, 502.0, 444.0, 386.0]\n"
     ]
    }
   ],
   "execution_count": 3
  }
 ],
 "metadata": {
  "kernelspec": {
   "display_name": "Python 3",
   "language": "python",
   "name": "python3"
  },
  "language_info": {
   "codemirror_mode": {
    "name": "ipython",
    "version": 2
   },
   "file_extension": ".py",
   "mimetype": "text/x-python",
   "name": "python",
   "nbconvert_exporter": "python",
   "pygments_lexer": "ipython2",
   "version": "2.7.6"
  }
 },
 "nbformat": 4,
 "nbformat_minor": 5
}
